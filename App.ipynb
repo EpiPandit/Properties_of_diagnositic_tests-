{
 "cells": [
  {
   "cell_type": "code",
   "execution_count": 2,
   "id": "0b2f368b-ed18-4586-bf73-f9a5e46c42c5",
   "metadata": {},
   "outputs": [],
   "source": [
    "import streamlit as st\n",
    "import random"
   ]
  },
  {
   "cell_type": "code",
   "execution_count": null,
   "id": "57b18d67-ee9f-4616-9e98-9b497559c810",
   "metadata": {},
   "outputs": [],
   "source": [
    "import streamlit as st\n",
    "import random\n",
    "# Function to simulate sampling based on the chosen scenario's parameters\n",
    "def sample_individual(prevalence, sensitivity, specificity):\n",
    "    is_infected = random.random() < prevalence\n",
    "    if is_infected:\n",
    "        # True Positive or False Negative\n",
    "        if random.random() < sensitivity:\n",
    "            return \"True Positive\"\n",
    "        else:\n",
    "            return \"False Negative\"\n",
    "    else:\n",
    "        # True Negative or False Positive\n",
    "        if random.random() < specificity:\n",
    "            return \"True Negative\"\n",
    "        else:\n",
    "            return \"False Positive\"\n",
    "\n",
    "# App title\n",
    "st.title(\"Infectious Disease Diagnostic Simulation\")\n",
    "\n",
    "# Scenario selection screen\n",
    "st.header(\"Choose a Scenario\")\n",
    "\n",
    "# Scenario details\n",
    "scenarios = {\n",
    "    \"Scenario 1\": {\"prevalence\": 0.10, \"sensitivity\": 0.90, \"specificity\": 0.95},\n",
    "    \"Scenario 2\": {\"prevalence\": 0.90, \"sensitivity\": 0.90, \"specificity\": 0.95},\n",
    "    \"Scenario 3\": {\"prevalence\": 0.90, \"sensitivity\": 0.80, \"specificity\": 0.68},\n",
    "    \"Scenario 4\": {\"prevalence\": 0.20, \"sensitivity\": 0.85, \"specificity\": 0.85},\n",
    "}\n",
    "\n",
    "# Display scenario options\n",
    "selected_scenario = st.selectbox(\"Select a scenario\", list(scenarios.keys()))\n",
    "\n",
    "# Show scenario details\n",
    "st.write(f\"**Prevalence**: {scenarios[selected_scenario]['prevalence'] * 100}%\")\n",
    "st.write(f\"**Sensitivity**: {scenarios[selected_scenario]['sensitivity'] * 100}%\")\n",
    "st.write(f\"**Specificity**: {scenarios[selected_scenario]['specificity'] * 100}%\")\n",
    "\n",
    "# Sampling screen\n",
    "st.header(\"Sampling an Individual\")\n",
    "if st.button(\"Sample an Individual\"):\n",
    "    result = sample_individual(\n",
    "        scenarios[selected_scenario][\"prevalence\"],\n",
    "        scenarios[selected_scenario][\"sensitivity\"],\n",
    "        scenarios[selected_scenario][\"specificity\"],\n",
    "    )\n",
    "    st.write(f\"Result: **{result}**\")\n",
    "\n",
    "# Additional information for students\n",
    "st.header(\"Instructions for Students\")\n",
    "st.write(\"\"\"\n",
    "You can perform multiple sampling events to gather your data. Based on the results you collect:\n",
    "- Calculate the **Sensitivity**: The proportion of true positives among those who are actually infected.\n",
    "- Calculate the **Specificity**: The proportion of true negatives among those who are not infected.\n",
    "- Calculate the **Apparent Prevalence**: The proportion of positive test results in the population.\n",
    "\"\"\")"
   ]
  }
 ],
 "metadata": {
  "kernelspec": {
   "display_name": "Python 3 (ipykernel)",
   "language": "python",
   "name": "python3"
  },
  "language_info": {
   "codemirror_mode": {
    "name": "ipython",
    "version": 3
   },
   "file_extension": ".py",
   "mimetype": "text/x-python",
   "name": "python",
   "nbconvert_exporter": "python",
   "pygments_lexer": "ipython3",
   "version": "3.11.6"
  }
 },
 "nbformat": 4,
 "nbformat_minor": 5
}
